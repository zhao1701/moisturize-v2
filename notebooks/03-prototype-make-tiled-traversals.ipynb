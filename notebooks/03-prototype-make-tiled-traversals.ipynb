{
 "cells": [
  {
   "cell_type": "code",
   "execution_count": 36,
   "metadata": {
    "ExecuteTime": {
     "end_time": "2019-06-19T00:40:15.628312Z",
     "start_time": "2019-06-19T00:40:15.592652Z"
    }
   },
   "outputs": [
    {
     "name": "stdout",
     "output_type": "stream",
     "text": [
      "The autoreload extension is already loaded. To reload it, use:\n",
      "  %reload_ext autoreload\n"
     ]
    }
   ],
   "source": [
    "import os\n",
    "import imageio\n",
    "\n",
    "os.environ['CUDA_VISIBLE_DEVICES'] = '15'\n",
    "\n",
    "from tcvae.models import TCVAE\n",
    "from tcvae.data import ImageDataGenerator\n",
    "from tcvae.utils import import_project_root, make_directory\n",
    "from tcvae.visualization import process_for_animation, animate_traversals\n",
    "\n",
    "import_project_root()\n",
    "from config import EXPERIMENTS_DIR, CELEB_A_DIR\n",
    "\n",
    "import matplotlib.pyplot as plt\n",
    "\n",
    "%load_ext autoreload\n",
    "%autoreload 2"
   ]
  },
  {
   "cell_type": "code",
   "execution_count": 30,
   "metadata": {
    "ExecuteTime": {
     "end_time": "2019-06-19T00:15:19.957796Z",
     "start_time": "2019-06-19T00:15:19.930474Z"
    }
   },
   "outputs": [],
   "source": [
    "EXPERIMENT_NAME = 'beta-vae-sse-8'\n",
    "NUM_IMAGES = 25\n",
    "NUM_ROWS = 5\n",
    "STD_THRESHOLD = 0.75\n",
    "OVERWRITE = True"
   ]
  },
  {
   "cell_type": "code",
   "execution_count": 31,
   "metadata": {
    "ExecuteTime": {
     "end_time": "2019-06-19T00:15:28.918536Z",
     "start_time": "2019-06-19T00:15:20.414622Z"
    }
   },
   "outputs": [
    {
     "name": "stderr",
     "output_type": "stream",
     "text": [
      "/usr/local/lib/python3.5/dist-packages/keras/engine/saving.py:292: UserWarning: No training configuration found in save file: the model was *not* compiled. Compile it manually.\n",
      "  warnings.warn('No training configuration found in save file: '\n"
     ]
    }
   ],
   "source": [
    "experiment_dir = EXPERIMENTS_DIR / EXPERIMENT_NAME\n",
    "model_dir = experiment_dir / 'model'\n",
    "traversal_dir = experiment_dir / 'traversals'\n",
    "make_directory(traversal_dir, overwrite=OVERWRITE)"
   ]
  },
  {
   "cell_type": "code",
   "execution_count": 3,
   "metadata": {
    "ExecuteTime": {
     "end_time": "2019-06-18T23:34:35.548508Z",
     "start_time": "2019-06-18T23:34:35.017336Z"
    }
   },
   "outputs": [],
   "source": [
    "model = TCVAE.load(model_dir)\n",
    "datagen = ImageDataGenerator(CELEB_A_DIR, NUM_IMAGES)\n",
    "imgs = datagen.load_n_images(NUM_IMAGES)"
   ]
  },
  {
   "cell_type": "code",
   "execution_count": 10,
   "metadata": {
    "ExecuteTime": {
     "end_time": "2019-06-18T23:41:58.453937Z",
     "start_time": "2019-06-18T23:41:45.602218Z"
    }
   },
   "outputs": [
    {
     "name": "stdout",
     "output_type": "stream",
     "text": [
      "Generating traversals for the following 27 latent indices:\n",
      "[ 1  2  3  4  6  8 10 11 12 13 14 15 16 17 18 19 20 21 22 23 25 26 27 28\n",
      " 29 30 31]\n"
     ]
    }
   ],
   "source": [
    "traversals = model.make_all_traversals(\n",
    "    imgs, num_rows=NUM_ROWS, std_threshold=STD_THRESHOLD)\n",
    "for key, value in traversals.items():\n",
    "    traversals[key] = process_for_animation(value)"
   ]
  },
  {
   "cell_type": "markdown",
   "metadata": {},
   "source": [
    "# As script"
   ]
  },
  {
   "cell_type": "code",
   "execution_count": 54,
   "metadata": {
    "ExecuteTime": {
     "end_time": "2019-06-19T01:53:20.662828Z",
     "start_time": "2019-06-19T01:53:20.625101Z"
    }
   },
   "outputs": [
    {
     "name": "stdout",
     "output_type": "stream",
     "text": [
      "Overwriting /project/scripts/02-animate-traversals.py\n"
     ]
    }
   ],
   "source": [
    "%%writefile '/project/scripts/02-animate-traversals.py'\n",
    "\n",
    "import os\n",
    "import argparse as ap\n",
    "\n",
    "import imageio\n",
    "\n",
    "from tcvae.models import TCVAE\n",
    "from tcvae.data import ImageDataGenerator\n",
    "from tcvae.utils import import_project_root, make_directory\n",
    "from tcvae.visualization import process_for_animation, animate_traversals\n",
    "\n",
    "import_project_root()\n",
    "from config import EXPERIMENTS_DIR, CELEB_A_DIR\n",
    "\n",
    "\n",
    "def parse_args():\n",
    "    parser = ap.ArgumentParser()\n",
    "    parser.add_argument(\n",
    "        'experiment_name', type=str, help=(\n",
    "            'The base name of the directory containing resources for a specific '\n",
    "            'experiment.'))\n",
    "    parser.add_argument(\n",
    "        '-i', '--num_imgs', type=int, default=25,\n",
    "        help='The number of images on which to perform traversals.')\n",
    "    parser.add_argument(\n",
    "        '-r', '--num_rows', type=int, default=5,\n",
    "        help='The number of rows to use when tiling images together.')\n",
    "    parser.add_argument(\n",
    "        '-t', '--std_threshold', type=float, default=0.8,\n",
    "        help=(\n",
    "            'Latent dimensions with average standard deviations above this '\n",
    "            'threshold are not included in traversals.'))\n",
    "    parser.add_argument(\n",
    "        '-o', '--overwrite', action='store_true',\n",
    "        help='If true, overwrites directory containing existing traversals.')\n",
    "    parser.add_argument(\n",
    "        '-g', '--gpu', type=int, default=15,\n",
    "        help='The ID of the GPU to use for generating traversals.')\n",
    "    args = parser.parse_args()\n",
    "    return args\n",
    "    \n",
    "\n",
    "def main():\n",
    "    \n",
    "    args = parse_args()\n",
    "    os.environ['CUDA_VISIBLE_DEVICES'] = str(args.gpu)\n",
    "    \n",
    "    experiment_dir = EXPERIMENTS_DIR / args.experiment_name\n",
    "    model_dir = experiment_dir / 'model'\n",
    "    traversal_dir = experiment_dir / 'traversals'\n",
    "    make_directory(traversal_dir, overwrite=args.overwrite)\n",
    "    \n",
    "    model = TCVAE.load(model_dir)\n",
    "    datagen = ImageDataGenerator(CELEB_A_DIR, args.num_imgs)\n",
    "    imgs = datagen.load_n_images(args.num_imgs)\n",
    "    \n",
    "    traversals = model.make_all_traversals(\n",
    "        imgs, num_rows=args.num_rows, std_threshold=args.std_threshold)\n",
    "    for key, value in traversals.items():\n",
    "        traversals[key] = process_for_animation(value)\n",
    "        \n",
    "    animate_traversals(traversals, traversal_dir)\n",
    "\n",
    "\n",
    "if __name__ == '__main__':\n",
    "    main()"
   ]
  }
 ],
 "metadata": {
  "kernelspec": {
   "display_name": "Python 3",
   "language": "python",
   "name": "python3"
  },
  "varInspector": {
   "cols": {
    "lenName": 16,
    "lenType": 16,
    "lenVar": 40
   },
   "kernels_config": {
    "python": {
     "delete_cmd_postfix": "",
     "delete_cmd_prefix": "del ",
     "library": "var_list.py",
     "varRefreshCmd": "print(var_dic_list())"
    },
    "r": {
     "delete_cmd_postfix": ") ",
     "delete_cmd_prefix": "rm(",
     "library": "var_list.r",
     "varRefreshCmd": "cat(var_dic_list()) "
    }
   },
   "types_to_exclude": [
    "module",
    "function",
    "builtin_function_or_method",
    "instance",
    "_Feature"
   ],
   "window_display": false
  }
 },
 "nbformat": 4,
 "nbformat_minor": 2
}
