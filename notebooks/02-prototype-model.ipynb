{
 "cells": [
  {
   "cell_type": "code",
   "execution_count": 282,
   "metadata": {
    "ExecuteTime": {
     "end_time": "2019-03-30T17:19:02.000853Z",
     "start_time": "2019-03-30T17:19:01.580811Z"
    }
   },
   "outputs": [
    {
     "name": "stdout",
     "output_type": "stream",
     "text": [
      "The autoreload extension is already loaded. To reload it, use:\n",
      "  %reload_ext autoreload\n"
     ]
    }
   ],
   "source": [
    "import os\n",
    "import git\n",
    "import sys\n",
    "import glob\n",
    "import numpy as np\n",
    "import pandas as pd\n",
    "import seaborn as sns\n",
    "import matplotlib.pyplot as plt\n",
    "import matplotlib.image as mpimg\n",
    "\n",
    "from pathlib import Path\n",
    "from matplotlib import rcParams\n",
    "from keras.models import Model\n",
    "from keras.layers import Conv2D, BatchNormalization, Conv2DTranspose\n",
    "from keras.layers import Input, Layer, Lambda, Flatten, Reshape\n",
    "from keras.layers import Multiply, Add\n",
    "from keras.losses import binary_crossentropy, mse\n",
    "from keras.optimizers import Adam\n",
    "from keras.utils import Sequence\n",
    "from keras.preprocessing.image import load_img, img_to_array\n",
    "from keras import backend as K\n",
    "\n",
    "# Find project root directory and file path constants\n",
    "repo = git.Repo('.', search_parent_directories=True)\n",
    "PROJECT_DIR = os.path.dirname(repo.git_dir)\n",
    "sys.path.append(PROJECT_DIR)\n",
    "from config import DATA_DIR, CELEB_A_DIR\n",
    "\n",
    "sns.set(context='notebook', style='whitegrid')\n",
    "rcParams['font.family'] = 'serif'\n",
    "rcParams['font.serif'] = 'times new roman'\n",
    "\n",
    "%config InlineBackend.figure_format = 'retina'\n",
    "%matplotlib inline\n",
    "%load_ext autoreload\n",
    "%autoreload 2"
   ]
  },
  {
   "cell_type": "markdown",
   "metadata": {},
   "source": [
    "# Define architecture"
   ]
  },
  {
   "cell_type": "code",
   "execution_count": 283,
   "metadata": {
    "ExecuteTime": {
     "end_time": "2019-03-30T17:19:05.767034Z",
     "start_time": "2019-03-30T17:19:05.729249Z"
    }
   },
   "outputs": [],
   "source": [
    "class Variational(Layer):\n",
    "    \n",
    "    def __init__(self, *args, **kwargs):\n",
    "        super().__init__(**kwargs)\n",
    "        \n",
    "    def build(self, input_shape):\n",
    "        super().build(input_shape)\n",
    "    \n",
    "    def call(self, x):\n",
    "        assert(isinstance(x, list))\n",
    "        z_mu, z_log_sigma = x\n",
    "        eps = K.random_normal(K.shape(z_log_sigma))\n",
    "        z = Add()([z_mu, Multiply()([K.exp(z_log_sigma), eps])])\n",
    "        return z\n",
    "    \n",
    "    def compute_output_shape(self, input_shape):\n",
    "        assert(isinstance(input_shape, list))\n",
    "        z_mu_shape, z_log_sigma_shape = input_shape\n",
    "        assert(z_mu_shape == z_log_sigma_shape)\n",
    "        return z_mu_shape"
   ]
  },
  {
   "cell_type": "code",
   "execution_count": 284,
   "metadata": {
    "ExecuteTime": {
     "end_time": "2019-03-30T17:19:06.559556Z",
     "start_time": "2019-03-30T17:19:06.523767Z"
    }
   },
   "outputs": [],
   "source": [
    "def make_latent_tensors(x):\n",
    "    a = Conv2D(32, 4, strides=2, padding='same', activation='relu')(x)\n",
    "    a = BatchNormalization(axis=-1, momentum=0.1, epsilon=1e-5)(a)\n",
    "    a = Conv2D(64, 4, strides=2, padding='same', activation='relu')(a)\n",
    "    a = BatchNormalization(axis=-1, momentum=0.1, epsilon=1e-5)(a)\n",
    "    a = Conv2D(128, 4, strides=2, padding='same', activation='relu')(a)\n",
    "    a = BatchNormalization(axis=-1, momentum=0.1, epsilon=1e-5)(a)\n",
    "    a = Conv2D(128, 4, strides=2, padding='same', activation='relu')(a)\n",
    "    a = BatchNormalization(axis=-1, momentum=0.1, epsilon=1e-5)(a)\n",
    "    a = Conv2D(256, 4, strides=2, padding='same', activation='relu')(a)\n",
    "    a = BatchNormalization(axis=-1, momentum=0.1, epsilon=1e-5)(a)\n",
    "    a = Conv2D(512, 4, activation='relu')(a)\n",
    "    a = BatchNormalization(axis=-1, momentum=0.1, epsilon=1e-5)(a)\n",
    "    \n",
    "    z_mu = Conv2D(32, 1)(a)\n",
    "    z_mu = Flatten()(z_mu)\n",
    "    z_log_sigma = Conv2D(32, 1)(a)\n",
    "    z_log_sigma = Flatten()(z_log_sigma)\n",
    "    z = Variational()([z_mu, z_log_sigma])\n",
    "    return z, z_mu, z_log_sigma"
   ]
  },
  {
   "cell_type": "code",
   "execution_count": 285,
   "metadata": {
    "ExecuteTime": {
     "end_time": "2019-03-30T17:19:07.283190Z",
     "start_time": "2019-03-30T17:19:07.245864Z"
    }
   },
   "outputs": [],
   "source": [
    "def make_reconstruction_tensors(z):\n",
    "    a = Reshape((1, 1, 32))(z)\n",
    "    a = Conv2DTranspose(\n",
    "            512, 1, strides=1, padding='valid', activation='relu')(a)\n",
    "    a = BatchNormalization(axis=-1, momentum=0.1, epsilon=1e-5)(a)\n",
    "    a = Conv2DTranspose(\n",
    "            256, 4, strides=1, padding='valid', activation='relu')(a)\n",
    "    a = BatchNormalization(axis=-1, momentum=0.1, epsilon=1e-5)(a)\n",
    "    a = Conv2DTranspose(\n",
    "            128, 4, strides=2, padding='same', activation='relu')(a)\n",
    "    a = BatchNormalization(axis=-1, momentum=0.1, epsilon=1e-5)(a)\n",
    "    a = Conv2DTranspose(\n",
    "            128, 4, strides=2, padding='same', activation='relu')(a)\n",
    "    a = BatchNormalization(axis=-1, momentum=0.1, epsilon=1e-5)(a)\n",
    "    a = Conv2DTranspose(\n",
    "            64, 4, strides=2, padding='same', activation='relu')(a)\n",
    "    a = BatchNormalization(axis=-1, momentum=0.1, epsilon=1e-5)(a)\n",
    "    a = Conv2DTranspose(\n",
    "            32, 4, strides=2, padding='same', activation='relu')(a)\n",
    "    y = Conv2DTranspose(\n",
    "            3, 4, strides=2, padding='same', activation='sigmoid')(a)\n",
    "    return y"
   ]
  },
  {
   "cell_type": "code",
   "execution_count": 301,
   "metadata": {
    "ExecuteTime": {
     "end_time": "2019-03-30T17:26:38.371670Z",
     "start_time": "2019-03-30T17:26:36.157199Z"
    }
   },
   "outputs": [],
   "source": [
    "BETA = 0.1\n",
    "\n",
    "K.clear_session()\n",
    "\n",
    "x = Input(shape=(128, 128, 3), name='x')\n",
    "z, z_mu, z_log_sigma = make_latent_tensors(x)\n",
    "encoder = Model(inputs=x, outputs=[z, z_mu, z_log_sigma], name='encoder')\n",
    "\n",
    "z_ = Input(shape=(1, 1, 32))\n",
    "y_ = make_reconstruction_tensors(z_)\n",
    "decoder = Model(inputs=z_, outputs=y_, name='decoder')\n",
    "\n",
    "y = decoder(encoder(x)[0])\n",
    "vae = Model(inputs=x, outputs=y, name='vae')\n",
    "\n",
    "reconstruction_loss = mse(x, y)\n",
    "reconstruction_loss *= 3\n",
    "reconstruction_loss = K.sum(reconstruction_loss, axis=-1)\n",
    "reconstruction_loss = K.sum(reconstruction_loss, axis=-1)\n",
    "reconstruction_loss = K.mean(reconstruction_loss)\n",
    "latent_loss = 1 + 2*z_log_sigma - K.square(z_mu) - K.exp(2*z_log_sigma)\n",
    "latent_loss = -0.5 * K.sum(latent_loss, axis=-1)\n",
    "latent_loss = K.mean(latent_loss)\n",
    "loss = reconstruction_loss + BETA * latent_loss\n",
    "\n",
    "vae.add_loss(loss)\n",
    "vae.compile(optimizer=Adam(lr=1e-5), metrics=[latent_loss, reconstruction_loss])"
   ]
  },
  {
   "cell_type": "code",
   "execution_count": 297,
   "metadata": {
    "ExecuteTime": {
     "end_time": "2019-03-30T17:24:23.199223Z",
     "start_time": "2019-03-30T17:24:23.167216Z"
    }
   },
   "outputs": [
    {
     "name": "stdout",
     "output_type": "stream",
     "text": [
      "_________________________________________________________________\n",
      "Layer (type)                 Output Shape              Param #   \n",
      "=================================================================\n",
      "x (InputLayer)               (None, 128, 128, 3)       0         \n",
      "_________________________________________________________________\n",
      "encoder (Model)              [(None, 32), (None, 32),  3087392   \n",
      "_________________________________________________________________\n",
      "decoder (Model)              (None, 128, 128, 3)       3070819   \n",
      "=================================================================\n",
      "Total params: 6,158,211\n",
      "Trainable params: 6,153,795\n",
      "Non-trainable params: 4,416\n",
      "_________________________________________________________________\n"
     ]
    }
   ],
   "source": [
    "vae.summary()"
   ]
  },
  {
   "cell_type": "markdown",
   "metadata": {},
   "source": [
    "# Load data"
   ]
  },
  {
   "cell_type": "code",
   "execution_count": 279,
   "metadata": {
    "ExecuteTime": {
     "end_time": "2019-03-30T17:18:04.134379Z",
     "start_time": "2019-03-30T17:18:04.084234Z"
    }
   },
   "outputs": [],
   "source": [
    "def read_img(file):\n",
    "    img = load_img(file)\n",
    "    img = img_to_array(img)\n",
    "    img /= 255.\n",
    "    return img\n",
    "\n",
    "def crop_square(img, side_length=128):\n",
    "    height, width, num_channels = img.shape\n",
    "    \n",
    "    # Crop image to square\n",
    "    extra_padding = (max(height, width) - min(height, width)) // 2\n",
    "    if height > width:\n",
    "        img = img[extra_padding:-extra_padding]\n",
    "    elif height < width:\n",
    "        img = img[:, extra_padding:-extra_padding]\n",
    "        \n",
    "    # Zoom\n",
    "    extra_padding = (min(height, width) - side_length) // 2\n",
    "    assert(extra_padding >= 0)\n",
    "    img = img[extra_padding:-extra_padding, extra_padding:-extra_padding]\n",
    "    return img\n",
    "\n",
    "class ImageDataGenerator(Sequence):\n",
    "    \n",
    "    def __init__(\n",
    "            self, data_dir, batch_size=32, shuffle=True,\n",
    "            filetype='jpg', square_crop_length=128):\n",
    "        if isinstance(data_dir, str):\n",
    "            data_dir = Path(data_dir)\n",
    "        self.batch_size = batch_size\n",
    "        self.shuffle = shuffle\n",
    "        self.files = list(data_dir.glob('*.{}'.format(filetype)))\n",
    "        self.num_samples = len(self.files)\n",
    "        self.square_crop_length = square_crop_length\n",
    "        if self.shuffle:\n",
    "            self.files = np.random.permutation(self.files).tolist()\n",
    "    \n",
    "    def __getitem__(self, index):\n",
    "        idx_start = index * self.batch_size\n",
    "        idx_end = (index + 1) * self.batch_size\n",
    "        batch_files = self.files[idx_start:idx_end]\n",
    "        imgs = [read_img(file) for file in batch_files]\n",
    "        if self.square_crop_length:\n",
    "            imgs = [\n",
    "                crop_square(img, side_length=self.square_crop_length)\n",
    "                for img in imgs]\n",
    "        imgs = np.array(imgs)\n",
    "        imgs = (imgs, None) # Return in form (x, y)\n",
    "        return imgs\n",
    "    \n",
    "    def __len__(self):\n",
    "        return self.num_samples // self.batch_size\n",
    "    \n",
    "    def on_epoch_end(self):\n",
    "        if self.shuffle:\n",
    "            self.files = np.random.permutation(self.files).tolist()"
   ]
  },
  {
   "cell_type": "code",
   "execution_count": 280,
   "metadata": {
    "ExecuteTime": {
     "end_time": "2019-03-30T17:18:14.736567Z",
     "start_time": "2019-03-30T17:18:06.176567Z"
    }
   },
   "outputs": [],
   "source": [
    "datagen = ImageDataGenerator(CELEB_A_DIR, batch_size=32, shuffle=True)"
   ]
  },
  {
   "cell_type": "markdown",
   "metadata": {},
   "source": [
    "# Train model"
   ]
  },
  {
   "cell_type": "code",
   "execution_count": 302,
   "metadata": {
    "ExecuteTime": {
     "end_time": "2019-03-30T17:27:43.647731Z",
     "start_time": "2019-03-30T17:26:44.322553Z"
    },
    "scrolled": true
   },
   "outputs": [
    {
     "name": "stdout",
     "output_type": "stream",
     "text": [
      "Epoch 1/1\n",
      "  32/6331 [..............................] - ETA: 2:58:28 - loss: 4402.0537"
     ]
    },
    {
     "ename": "KeyboardInterrupt",
     "evalue": "",
     "output_type": "error",
     "traceback": [
      "\u001b[0;31m---------------------------------------------------------------------------\u001b[0m",
      "\u001b[0;31mKeyboardInterrupt\u001b[0m                         Traceback (most recent call last)",
      "\u001b[0;32m<ipython-input-302-d0605abe7bc3>\u001b[0m in \u001b[0;36m<module>\u001b[0;34m\u001b[0m\n\u001b[0;32m----> 1\u001b[0;31m \u001b[0mvae\u001b[0m\u001b[0;34m.\u001b[0m\u001b[0mfit_generator\u001b[0m\u001b[0;34m(\u001b[0m\u001b[0mdatagen\u001b[0m\u001b[0;34m)\u001b[0m\u001b[0;34m\u001b[0m\u001b[0m\n\u001b[0m",
      "\u001b[0;32m/usr/local/lib/python3.5/dist-packages/keras/legacy/interfaces.py\u001b[0m in \u001b[0;36mwrapper\u001b[0;34m(*args, **kwargs)\u001b[0m\n\u001b[1;32m     89\u001b[0m                 warnings.warn('Update your `' + object_name + '` call to the ' +\n\u001b[1;32m     90\u001b[0m                               'Keras 2 API: ' + signature, stacklevel=2)\n\u001b[0;32m---> 91\u001b[0;31m             \u001b[0;32mreturn\u001b[0m \u001b[0mfunc\u001b[0m\u001b[0;34m(\u001b[0m\u001b[0;34m*\u001b[0m\u001b[0margs\u001b[0m\u001b[0;34m,\u001b[0m \u001b[0;34m**\u001b[0m\u001b[0mkwargs\u001b[0m\u001b[0;34m)\u001b[0m\u001b[0;34m\u001b[0m\u001b[0m\n\u001b[0m\u001b[1;32m     92\u001b[0m         \u001b[0mwrapper\u001b[0m\u001b[0;34m.\u001b[0m\u001b[0m_original_function\u001b[0m \u001b[0;34m=\u001b[0m \u001b[0mfunc\u001b[0m\u001b[0;34m\u001b[0m\u001b[0m\n\u001b[1;32m     93\u001b[0m         \u001b[0;32mreturn\u001b[0m \u001b[0mwrapper\u001b[0m\u001b[0;34m\u001b[0m\u001b[0m\n",
      "\u001b[0;32m/usr/local/lib/python3.5/dist-packages/keras/engine/training.py\u001b[0m in \u001b[0;36mfit_generator\u001b[0;34m(self, generator, steps_per_epoch, epochs, verbose, callbacks, validation_data, validation_steps, class_weight, max_queue_size, workers, use_multiprocessing, shuffle, initial_epoch)\u001b[0m\n\u001b[1;32m   1416\u001b[0m             \u001b[0muse_multiprocessing\u001b[0m\u001b[0;34m=\u001b[0m\u001b[0muse_multiprocessing\u001b[0m\u001b[0;34m,\u001b[0m\u001b[0;34m\u001b[0m\u001b[0m\n\u001b[1;32m   1417\u001b[0m             \u001b[0mshuffle\u001b[0m\u001b[0;34m=\u001b[0m\u001b[0mshuffle\u001b[0m\u001b[0;34m,\u001b[0m\u001b[0;34m\u001b[0m\u001b[0m\n\u001b[0;32m-> 1418\u001b[0;31m             initial_epoch=initial_epoch)\n\u001b[0m\u001b[1;32m   1419\u001b[0m \u001b[0;34m\u001b[0m\u001b[0m\n\u001b[1;32m   1420\u001b[0m     \u001b[0;34m@\u001b[0m\u001b[0minterfaces\u001b[0m\u001b[0;34m.\u001b[0m\u001b[0mlegacy_generator_methods_support\u001b[0m\u001b[0;34m\u001b[0m\u001b[0m\n",
      "\u001b[0;32m/usr/local/lib/python3.5/dist-packages/keras/engine/training_generator.py\u001b[0m in \u001b[0;36mfit_generator\u001b[0;34m(model, generator, steps_per_epoch, epochs, verbose, callbacks, validation_data, validation_steps, class_weight, max_queue_size, workers, use_multiprocessing, shuffle, initial_epoch)\u001b[0m\n\u001b[1;32m    215\u001b[0m                 outs = model.train_on_batch(x, y,\n\u001b[1;32m    216\u001b[0m                                             \u001b[0msample_weight\u001b[0m\u001b[0;34m=\u001b[0m\u001b[0msample_weight\u001b[0m\u001b[0;34m,\u001b[0m\u001b[0;34m\u001b[0m\u001b[0m\n\u001b[0;32m--> 217\u001b[0;31m                                             class_weight=class_weight)\n\u001b[0m\u001b[1;32m    218\u001b[0m \u001b[0;34m\u001b[0m\u001b[0m\n\u001b[1;32m    219\u001b[0m                 \u001b[0mouts\u001b[0m \u001b[0;34m=\u001b[0m \u001b[0mto_list\u001b[0m\u001b[0;34m(\u001b[0m\u001b[0mouts\u001b[0m\u001b[0;34m)\u001b[0m\u001b[0;34m\u001b[0m\u001b[0m\n",
      "\u001b[0;32m/usr/local/lib/python3.5/dist-packages/keras/engine/training.py\u001b[0m in \u001b[0;36mtrain_on_batch\u001b[0;34m(self, x, y, sample_weight, class_weight)\u001b[0m\n\u001b[1;32m   1215\u001b[0m             \u001b[0mins\u001b[0m \u001b[0;34m=\u001b[0m \u001b[0mx\u001b[0m \u001b[0;34m+\u001b[0m \u001b[0my\u001b[0m \u001b[0;34m+\u001b[0m \u001b[0msample_weights\u001b[0m\u001b[0;34m\u001b[0m\u001b[0m\n\u001b[1;32m   1216\u001b[0m         \u001b[0mself\u001b[0m\u001b[0;34m.\u001b[0m\u001b[0m_make_train_function\u001b[0m\u001b[0;34m(\u001b[0m\u001b[0;34m)\u001b[0m\u001b[0;34m\u001b[0m\u001b[0m\n\u001b[0;32m-> 1217\u001b[0;31m         \u001b[0moutputs\u001b[0m \u001b[0;34m=\u001b[0m \u001b[0mself\u001b[0m\u001b[0;34m.\u001b[0m\u001b[0mtrain_function\u001b[0m\u001b[0;34m(\u001b[0m\u001b[0mins\u001b[0m\u001b[0;34m)\u001b[0m\u001b[0;34m\u001b[0m\u001b[0m\n\u001b[0m\u001b[1;32m   1218\u001b[0m         \u001b[0;32mreturn\u001b[0m \u001b[0munpack_singleton\u001b[0m\u001b[0;34m(\u001b[0m\u001b[0moutputs\u001b[0m\u001b[0;34m)\u001b[0m\u001b[0;34m\u001b[0m\u001b[0m\n\u001b[1;32m   1219\u001b[0m \u001b[0;34m\u001b[0m\u001b[0m\n",
      "\u001b[0;32m/usr/local/lib/python3.5/dist-packages/keras/backend/tensorflow_backend.py\u001b[0m in \u001b[0;36m__call__\u001b[0;34m(self, inputs)\u001b[0m\n\u001b[1;32m   2713\u001b[0m                 \u001b[0;32mreturn\u001b[0m \u001b[0mself\u001b[0m\u001b[0;34m.\u001b[0m\u001b[0m_legacy_call\u001b[0m\u001b[0;34m(\u001b[0m\u001b[0minputs\u001b[0m\u001b[0;34m)\u001b[0m\u001b[0;34m\u001b[0m\u001b[0m\n\u001b[1;32m   2714\u001b[0m \u001b[0;34m\u001b[0m\u001b[0m\n\u001b[0;32m-> 2715\u001b[0;31m             \u001b[0;32mreturn\u001b[0m \u001b[0mself\u001b[0m\u001b[0;34m.\u001b[0m\u001b[0m_call\u001b[0m\u001b[0;34m(\u001b[0m\u001b[0minputs\u001b[0m\u001b[0;34m)\u001b[0m\u001b[0;34m\u001b[0m\u001b[0m\n\u001b[0m\u001b[1;32m   2716\u001b[0m         \u001b[0;32melse\u001b[0m\u001b[0;34m:\u001b[0m\u001b[0;34m\u001b[0m\u001b[0m\n\u001b[1;32m   2717\u001b[0m             \u001b[0;32mif\u001b[0m \u001b[0mpy_any\u001b[0m\u001b[0;34m(\u001b[0m\u001b[0mis_tensor\u001b[0m\u001b[0;34m(\u001b[0m\u001b[0mx\u001b[0m\u001b[0;34m)\u001b[0m \u001b[0;32mfor\u001b[0m \u001b[0mx\u001b[0m \u001b[0;32min\u001b[0m \u001b[0minputs\u001b[0m\u001b[0;34m)\u001b[0m\u001b[0;34m:\u001b[0m\u001b[0;34m\u001b[0m\u001b[0m\n",
      "\u001b[0;32m/usr/local/lib/python3.5/dist-packages/keras/backend/tensorflow_backend.py\u001b[0m in \u001b[0;36m_call\u001b[0;34m(self, inputs)\u001b[0m\n\u001b[1;32m   2673\u001b[0m             \u001b[0mfetched\u001b[0m \u001b[0;34m=\u001b[0m \u001b[0mself\u001b[0m\u001b[0;34m.\u001b[0m\u001b[0m_callable_fn\u001b[0m\u001b[0;34m(\u001b[0m\u001b[0;34m*\u001b[0m\u001b[0marray_vals\u001b[0m\u001b[0;34m,\u001b[0m \u001b[0mrun_metadata\u001b[0m\u001b[0;34m=\u001b[0m\u001b[0mself\u001b[0m\u001b[0;34m.\u001b[0m\u001b[0mrun_metadata\u001b[0m\u001b[0;34m)\u001b[0m\u001b[0;34m\u001b[0m\u001b[0m\n\u001b[1;32m   2674\u001b[0m         \u001b[0;32melse\u001b[0m\u001b[0;34m:\u001b[0m\u001b[0;34m\u001b[0m\u001b[0m\n\u001b[0;32m-> 2675\u001b[0;31m             \u001b[0mfetched\u001b[0m \u001b[0;34m=\u001b[0m \u001b[0mself\u001b[0m\u001b[0;34m.\u001b[0m\u001b[0m_callable_fn\u001b[0m\u001b[0;34m(\u001b[0m\u001b[0;34m*\u001b[0m\u001b[0marray_vals\u001b[0m\u001b[0;34m)\u001b[0m\u001b[0;34m\u001b[0m\u001b[0m\n\u001b[0m\u001b[1;32m   2676\u001b[0m         \u001b[0;32mreturn\u001b[0m \u001b[0mfetched\u001b[0m\u001b[0;34m[\u001b[0m\u001b[0;34m:\u001b[0m\u001b[0mlen\u001b[0m\u001b[0;34m(\u001b[0m\u001b[0mself\u001b[0m\u001b[0;34m.\u001b[0m\u001b[0moutputs\u001b[0m\u001b[0;34m)\u001b[0m\u001b[0;34m]\u001b[0m\u001b[0;34m\u001b[0m\u001b[0m\n\u001b[1;32m   2677\u001b[0m \u001b[0;34m\u001b[0m\u001b[0m\n",
      "\u001b[0;32m/usr/local/lib/python3.5/dist-packages/tensorflow/python/client/session.py\u001b[0m in \u001b[0;36m__call__\u001b[0;34m(self, *args, **kwargs)\u001b[0m\n\u001b[1;32m   1437\u001b[0m           ret = tf_session.TF_SessionRunCallable(\n\u001b[1;32m   1438\u001b[0m               \u001b[0mself\u001b[0m\u001b[0;34m.\u001b[0m\u001b[0m_session\u001b[0m\u001b[0;34m.\u001b[0m\u001b[0m_session\u001b[0m\u001b[0;34m,\u001b[0m \u001b[0mself\u001b[0m\u001b[0;34m.\u001b[0m\u001b[0m_handle\u001b[0m\u001b[0;34m,\u001b[0m \u001b[0margs\u001b[0m\u001b[0;34m,\u001b[0m \u001b[0mstatus\u001b[0m\u001b[0;34m,\u001b[0m\u001b[0;34m\u001b[0m\u001b[0m\n\u001b[0;32m-> 1439\u001b[0;31m               run_metadata_ptr)\n\u001b[0m\u001b[1;32m   1440\u001b[0m         \u001b[0;32mif\u001b[0m \u001b[0mrun_metadata\u001b[0m\u001b[0;34m:\u001b[0m\u001b[0;34m\u001b[0m\u001b[0m\n\u001b[1;32m   1441\u001b[0m           \u001b[0mproto_data\u001b[0m \u001b[0;34m=\u001b[0m \u001b[0mtf_session\u001b[0m\u001b[0;34m.\u001b[0m\u001b[0mTF_GetBuffer\u001b[0m\u001b[0;34m(\u001b[0m\u001b[0mrun_metadata_ptr\u001b[0m\u001b[0;34m)\u001b[0m\u001b[0;34m\u001b[0m\u001b[0m\n",
      "\u001b[0;31mKeyboardInterrupt\u001b[0m: "
     ]
    }
   ],
   "source": [
    "vae.fit_generator(datagen)"
   ]
  },
  {
   "cell_type": "code",
   "execution_count": null,
   "metadata": {},
   "outputs": [],
   "source": []
  }
 ],
 "metadata": {
  "kernelspec": {
   "display_name": "Python 3",
   "language": "python",
   "name": "python3"
  },
  "language_info": {
   "codemirror_mode": {
    "name": "ipython",
    "version": 3
   },
   "file_extension": ".py",
   "mimetype": "text/x-python",
   "name": "python",
   "nbconvert_exporter": "python",
   "pygments_lexer": "ipython3",
   "version": "3.5.2"
  },
  "varInspector": {
   "cols": {
    "lenName": 16,
    "lenType": 16,
    "lenVar": 40
   },
   "kernels_config": {
    "python": {
     "delete_cmd_postfix": "",
     "delete_cmd_prefix": "del ",
     "library": "var_list.py",
     "varRefreshCmd": "print(var_dic_list())"
    },
    "r": {
     "delete_cmd_postfix": ") ",
     "delete_cmd_prefix": "rm(",
     "library": "var_list.r",
     "varRefreshCmd": "cat(var_dic_list()) "
    }
   },
   "types_to_exclude": [
    "module",
    "function",
    "builtin_function_or_method",
    "instance",
    "_Feature"
   ],
   "window_display": false
  }
 },
 "nbformat": 4,
 "nbformat_minor": 2
}
